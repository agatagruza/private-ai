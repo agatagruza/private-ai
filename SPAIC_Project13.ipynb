{
  "nbformat": 4,
  "nbformat_minor": 0,
  "metadata": {
    "colab": {
      "name": "SPAIC_Project13.ipynb",
      "version": "0.3.2",
      "provenance": [],
      "include_colab_link": true
    },
    "kernelspec": {
      "name": "python3",
      "display_name": "Python 3"
    },
    "accelerator": "GPU"
  },
  "cells": [
    {
      "cell_type": "markdown",
      "metadata": {
        "id": "view-in-github",
        "colab_type": "text"
      },
      "source": [
        "<a href=\"https://colab.research.google.com/github/agatagruza/private-ai/blob/master/SPAIC_Project13.ipynb\" target=\"_parent\"><img src=\"https://colab.research.google.com/assets/colab-badge.svg\" alt=\"Open In Colab\"/></a>"
      ]
    },
    {
      "cell_type": "markdown",
      "metadata": {
        "id": "6luHOwjAs1z8",
        "colab_type": "text"
      },
      "source": [
        "# Project 13: Securing Federated Learning"
      ]
    },
    {
      "cell_type": "markdown",
      "metadata": {
        "id": "5izsEv0RuJKk",
        "colab_type": "text"
      },
      "source": [
        "##Trusted Aggregator"
      ]
    },
    {
      "cell_type": "code",
      "metadata": {
        "id": "7Ren37jmsatU",
        "colab_type": "code",
        "colab": {}
      },
      "source": [
        "pip install syft"
      ],
      "execution_count": 0,
      "outputs": []
    },
    {
      "cell_type": "code",
      "metadata": {
        "id": "KWMIpGJIueQD",
        "colab_type": "code",
        "colab": {
          "base_uri": "https://localhost:8080/",
          "height": 105
        },
        "outputId": "02700425-b66e-4104-a224-9c8b6078ec1d"
      },
      "source": [
        "import torch as th\n",
        "import syft as sy\n",
        "hook = sy.TorchHook(th)\n",
        "from torch import nn, optim"
      ],
      "execution_count": 2,
      "outputs": [
        {
          "output_type": "stream",
          "text": [
            "WARNING: Logging before flag parsing goes to stderr.\n",
            "W0727 04:53:34.421897 140692690282368 secure_random.py:26] Falling back to insecure randomness since the required custom op could not be found for the installed version of TensorFlow. Fix this by compiling custom ops. Missing file was '/usr/local/lib/python3.6/dist-packages/tf_encrypted/operations/secure_random/secure_random_module_tf_1.14.0.so'\n",
            "W0727 04:53:34.439057 140692690282368 deprecation_wrapper.py:119] From /usr/local/lib/python3.6/dist-packages/tf_encrypted/session.py:26: The name tf.Session is deprecated. Please use tf.compat.v1.Session instead.\n",
            "\n"
          ],
          "name": "stderr"
        }
      ]
    },
    {
      "cell_type": "code",
      "metadata": {
        "id": "cg-fXow2ueWZ",
        "colab_type": "code",
        "colab": {}
      },
      "source": [
        "# creatring virtual workers\n",
        "bob = sy.VirtualWorker(hook, id = \"bob\") # data owner\n",
        "alice = sy.VirtualWorker(hook, id = \"alice\") # data owner\n",
        "# secure worker is a trusted 3rd party that is able to perform good aggregation\n",
        "secure_worker = sy.VirtualWorker(hook, id = \"secure_worker\")"
      ],
      "execution_count": 0,
      "outputs": []
    },
    {
      "cell_type": "code",
      "metadata": {
        "id": "foPqP7qIueZ5",
        "colab_type": "code",
        "colab": {}
      },
      "source": [
        "# Inrom worker, that other workers exsist. \n",
        "# Those are references to the other workers. \n",
        "bob.add_workers([alice, secure_worker])\n",
        "alice.add_workers([bob, secure_worker])\n",
        "secure_worker.add_workers([bob, alice])"
      ],
      "execution_count": 0,
      "outputs": []
    },
    {
      "cell_type": "code",
      "metadata": {
        "id": "H3URnpyny6LC",
        "colab_type": "code",
        "colab": {}
      },
      "source": [
        "# A Toy Dataset\n",
        "data = th.tensor([[0,0],[0,1],[1,0],[1,1.]], requires_grad=True) \n",
        "target = th.tensor([[0],[0],[1],[1.]], requires_grad=True) "
      ],
      "execution_count": 0,
      "outputs": []
    },
    {
      "cell_type": "code",
      "metadata": {
        "id": "zdKp5GmizRdM",
        "colab_type": "code",
        "colab": {}
      },
      "source": [
        "# get pointers to training data on each worker by\n",
        "# sending some trainig data to bob and alice\n",
        "bobs_data = data[0:2].send(bob)\n",
        "bobs_target = target[0:2].send(bob)"
      ],
      "execution_count": 0,
      "outputs": []
    },
    {
      "cell_type": "code",
      "metadata": {
        "id": "KEtysZkruegP",
        "colab_type": "code",
        "colab": {}
      },
      "source": [
        "alices_data = data[2:].send(alice)\n",
        "alices_target = target[2:].send(alice)"
      ],
      "execution_count": 0,
      "outputs": []
    },
    {
      "cell_type": "code",
      "metadata": {
        "id": "0wDUCumkuejE",
        "colab_type": "code",
        "colab": {
          "base_uri": "https://localhost:8080/",
          "height": 85
        },
        "outputId": "22d4ff19-1256-4f3d-fb03-d6e33dc3ab73"
      },
      "source": [
        "print(bobs_data)\n",
        "print(bobs_target)\n",
        "print(alices_data)\n",
        "print(alices_target)"
      ],
      "execution_count": 9,
      "outputs": [
        {
          "output_type": "stream",
          "text": [
            "(Wrapper)>[PointerTensor | me:76321689297 -> bob:56465019317]\n",
            "(Wrapper)>[PointerTensor | me:94723447321 -> bob:70744552807]\n",
            "(Wrapper)>[PointerTensor | me:30858905216 -> alice:50573715008]\n",
            "(Wrapper)>[PointerTensor | me:98341343148 -> alice:53350962861]\n"
          ],
          "name": "stdout"
        }
      ]
    },
    {
      "cell_type": "code",
      "metadata": {
        "id": "zj_CpjdQuelM",
        "colab_type": "code",
        "colab": {
          "base_uri": "https://localhost:8080/",
          "height": 34
        },
        "outputId": "6ba09cb8-a610-4e17-c334-7b4f53bb3290"
      },
      "source": [
        "# Initialize a Toy Model\n",
        "model = nn.Linear(2, 1)\n",
        "print(model)"
      ],
      "execution_count": 10,
      "outputs": [
        {
          "output_type": "stream",
          "text": [
            "Linear(in_features=2, out_features=1, bias=True)\n"
          ],
          "name": "stdout"
        }
      ]
    },
    {
      "cell_type": "code",
      "metadata": {
        "id": "TYpxujuJueoE",
        "colab_type": "code",
        "colab": {}
      },
      "source": [
        "bobs_model = model.copy().send(bob)\n",
        "alices_model = model.copy().send(alice)"
      ],
      "execution_count": 0,
      "outputs": []
    },
    {
      "cell_type": "code",
      "metadata": {
        "id": "LXqOA4GsueqD",
        "colab_type": "code",
        "colab": {
          "base_uri": "https://localhost:8080/",
          "height": 51
        },
        "outputId": "9a05a3db-d372-45f6-fc09-15cd68c18c83"
      },
      "source": [
        "print(bobs_model)\n",
        "print(alices_model)"
      ],
      "execution_count": 14,
      "outputs": [
        {
          "output_type": "stream",
          "text": [
            "Linear(in_features=2, out_features=1, bias=True)\n",
            "Linear(in_features=2, out_features=1, bias=True)\n"
          ],
          "name": "stdout"
        }
      ]
    },
    {
      "cell_type": "code",
      "metadata": {
        "id": "56hQaeEEues0",
        "colab_type": "code",
        "colab": {}
      },
      "source": [
        "# Two optimizers. One for the parameters Bob's model and one for the parametrs of alice's\n",
        "bobs_optimizer = optim.SGD(params=bobs_model.parameters(), lr = 0.1)\n",
        "alices_optimizer = optim.SGD(params=alices_model.parameters(), lr = 0.1)"
      ],
      "execution_count": 0,
      "outputs": []
    },
    {
      "cell_type": "code",
      "metadata": {
        "id": "FfBwuri9uewG",
        "colab_type": "code",
        "colab": {
          "base_uri": "https://localhost:8080/",
          "height": 289
        },
        "outputId": "29eee149-479d-451e-f5dc-1f4a4d61480a"
      },
      "source": [
        "print(bobs_optimizer)\n",
        "print(alices_optimizer)"
      ],
      "execution_count": 17,
      "outputs": [
        {
          "output_type": "stream",
          "text": [
            "SGD (\n",
            "Parameter Group 0\n",
            "    dampening: 0\n",
            "    lr: 0.1\n",
            "    momentum: 0\n",
            "    nesterov: False\n",
            "    weight_decay: 0\n",
            ")\n",
            "SGD (\n",
            "Parameter Group 0\n",
            "    dampening: 0\n",
            "    lr: 0.1\n",
            "    momentum: 0\n",
            "    nesterov: False\n",
            "    weight_decay: 0\n",
            ")\n"
          ],
          "name": "stdout"
        }
      ]
    },
    {
      "cell_type": "code",
      "metadata": {
        "id": "nodQcL4Tueyf",
        "colab_type": "code",
        "colab": {
          "base_uri": "https://localhost:8080/",
          "height": 187
        },
        "outputId": "a008fe07-e8f2-4822-a85f-28f0a8711abe"
      },
      "source": [
        "for round in range(10):\n",
        "\n",
        "    bobs_model = model.copy().send(bob)\n",
        "    alices_model = model.copy().send(alice)\n",
        "\n",
        "    bobs_optim = optim.SGD(params=bobs_model.parameters(), lr=0.1)\n",
        "    alices_optim = optim.SGD(params=alices_model.parameters(), lr=0.1)\n",
        "\n",
        "    for i in range(10):\n",
        "        # Bobs model in train\n",
        "        bobs_optim.zero_grad()\n",
        "        bobs_pred = bobs_model(bobs_data)\n",
        "        bobs_loss = ((bobs_pred - bobs_target) ** 2).sum()\n",
        "        bobs_loss.backward()\n",
        "\n",
        "        bobs_optim.step()\n",
        "        bobs_loss = bobs_loss.get().data\n",
        "        bobs_loss\n",
        "\n",
        "        # Alices model in train\n",
        "        alices_optim.zero_grad()\n",
        "        alices_pred = alices_model(alices_data)\n",
        "        alices_loss = ((alices_pred - alices_target) ** 2).sum()\n",
        "        alices_loss.backward()\n",
        "\n",
        "        alices_optim.step()\n",
        "        alices_loss = alices_loss.get().data  \n",
        "        alices_loss\n",
        "        \n",
        "    # It iterates through every parameter in alices model and calls .move() \n",
        "    # on that parameter inline.\n",
        "    alices_model.move(secure_worker)\n",
        "    bobs_model.move(secure_worker)\n",
        "\n",
        "    # AVERAGING ALICE AND BOB TOGETEHR !!!!!!!!!!!!!!!!!!!!!!!!!!!!!!!!!! \n",
        "    with th.no_grad():\n",
        "      model.weight.set_(((alices_model.weight.data + bobs_model.weight.data) / 2).get())\n",
        "      model.bias.set_(((alices_model.bias.data + bobs_model.bias.data) / 2).get())\n",
        "  \n",
        "    print(\"Bob:\" + str(bobs_loss) + \" Alice:\" + str(alices_loss))"
      ],
      "execution_count": 19,
      "outputs": [
        {
          "output_type": "stream",
          "text": [
            "Bob:tensor(0.0007) Alice:tensor(0.0017)\n",
            "Bob:tensor(0.0010) Alice:tensor(0.0004)\n",
            "Bob:tensor(0.0009) Alice:tensor(0.0002)\n",
            "Bob:tensor(0.0007) Alice:tensor(0.0001)\n",
            "Bob:tensor(0.0005) Alice:tensor(9.7172e-05)\n",
            "Bob:tensor(0.0004) Alice:tensor(7.0800e-05)\n",
            "Bob:tensor(0.0003) Alice:tensor(5.2400e-05)\n",
            "Bob:tensor(0.0002) Alice:tensor(3.9094e-05)\n",
            "Bob:tensor(0.0002) Alice:tensor(2.9287e-05)\n",
            "Bob:tensor(0.0001) Alice:tensor(2.1987e-05)\n"
          ],
          "name": "stdout"
        }
      ]
    },
    {
      "cell_type": "code",
      "metadata": {
        "id": "tgsiCpPI3oG9",
        "colab_type": "code",
        "colab": {
          "base_uri": "https://localhost:8080/",
          "height": 1000
        },
        "outputId": "4203a9b4-b956-4276-e27b-8c80b39cfd79"
      },
      "source": [
        "secure_worker._objects"
      ],
      "execution_count": 20,
      "outputs": [
        {
          "output_type": "execute_result",
          "data": {
            "text/plain": [
              "{1897046304: Parameter containing:\n",
              " tensor([[ 0.7078, -0.0291]], requires_grad=True),\n",
              " 6601264388: Parameter containing:\n",
              " tensor([[ 0.7803, -0.0222]], requires_grad=True),\n",
              " 7859216227: Parameter containing:\n",
              " tensor([[0.7527, 0.0150]], requires_grad=True),\n",
              " 8822466949: Parameter containing:\n",
              " tensor([0.0208], requires_grad=True),\n",
              " 12481839604: Parameter containing:\n",
              " tensor([[0.8386, 0.0093]], requires_grad=True),\n",
              " 17515926099: Parameter containing:\n",
              " tensor([0.0158], requires_grad=True),\n",
              " 17976413954: Parameter containing:\n",
              " tensor([0.4040], requires_grad=True),\n",
              " 18792544878: Parameter containing:\n",
              " tensor([[ 0.8347, -0.0167]], requires_grad=True),\n",
              " 21688418056: Parameter containing:\n",
              " tensor([[0.5659, 0.0535]], requires_grad=True),\n",
              " 23452364558: Parameter containing:\n",
              " tensor([[ 0.7466, -0.0254]], requires_grad=True),\n",
              " 25192060727: Parameter containing:\n",
              " tensor([[0.7855, 0.0126]], requires_grad=True),\n",
              " 34359186220: Parameter containing:\n",
              " tensor([0.0137], requires_grad=True),\n",
              " 36171987881: Parameter containing:\n",
              " tensor([0.1800], requires_grad=True),\n",
              " 37630769390: Parameter containing:\n",
              " tensor([0.1176], requires_grad=True),\n",
              " 39868696220: Parameter containing:\n",
              " tensor([[0.7143, 0.0186]], requires_grad=True),\n",
              " 41126493979: Parameter containing:\n",
              " tensor([0.4040], requires_grad=True),\n",
              " 41452530307: Parameter containing:\n",
              " tensor([0.0246], requires_grad=True),\n",
              " 41610339576: Parameter containing:\n",
              " tensor([0.0230], requires_grad=True),\n",
              " 41693945830: Parameter containing:\n",
              " tensor([0.0119], requires_grad=True),\n",
              " 42049616633: Parameter containing:\n",
              " tensor([0.0090], requires_grad=True),\n",
              " 43492096446: Parameter containing:\n",
              " tensor([[ 0.6115, -0.0370]], requires_grad=True),\n",
              " 48100690383: Parameter containing:\n",
              " tensor([0.3202], requires_grad=True),\n",
              " 49166605611: Parameter containing:\n",
              " tensor([[0.5659, 0.0535]], requires_grad=True),\n",
              " 50239192542: Parameter containing:\n",
              " tensor([0.1020], requires_grad=True),\n",
              " 51015268839: Parameter containing:\n",
              " tensor([0.1562], requires_grad=True),\n",
              " 53476762222: Parameter containing:\n",
              " tensor([[ 0.5576, -0.0395]], requires_grad=True),\n",
              " 55620205265: Parameter containing:\n",
              " tensor([0.1355], requires_grad=True),\n",
              " 62483334354: Parameter containing:\n",
              " tensor([[0.8946, 0.0060]], requires_grad=True),\n",
              " 64352535694: Parameter containing:\n",
              " tensor([[0.8139, 0.0108]], requires_grad=True),\n",
              " 65822401989: Parameter containing:\n",
              " tensor([[0.8600, 0.0080]], requires_grad=True),\n",
              " 67691242301: Parameter containing:\n",
              " tensor([[ 0.5493, -0.0333]], requires_grad=True),\n",
              " 73947311417: Parameter containing:\n",
              " tensor([[0.8785, 0.0069]], requires_grad=True),\n",
              " 74711076147: Parameter containing:\n",
              " tensor([0.0181], requires_grad=True),\n",
              " 75635461796: Parameter containing:\n",
              " tensor([[ 0.5493, -0.0333]], requires_grad=True),\n",
              " 75979573451: Parameter containing:\n",
              " tensor([0.0205], requires_grad=True),\n",
              " 77341298889: Parameter containing:\n",
              " tensor([[ 0.8094, -0.0193]], requires_grad=True),\n",
              " 77954402171: Parameter containing:\n",
              " tensor([0.0104], requires_grad=True),\n",
              " 79790329253: Parameter containing:\n",
              " tensor([[ 0.6629, -0.0331]], requires_grad=True),\n",
              " 83389326359: Parameter containing:\n",
              " tensor([0.2752], requires_grad=True),\n",
              " 86783491708: Parameter containing:\n",
              " tensor([0.2389], requires_grad=True),\n",
              " 87088059296: Parameter containing:\n",
              " tensor([[ 0.8566, -0.0145]], requires_grad=True),\n",
              " 90794022425: Parameter containing:\n",
              " tensor([0.2074], requires_grad=True),\n",
              " 91212577406: Parameter containing:\n",
              " tensor([0.0208], requires_grad=True),\n",
              " 91765026768: Parameter containing:\n",
              " tensor([[0.6653, 0.0258]], requires_grad=True)}"
            ]
          },
          "metadata": {
            "tags": []
          },
          "execution_count": 20
        }
      ]
    },
    {
      "cell_type": "code",
      "metadata": {
        "id": "wXvaEh0Vue4B",
        "colab_type": "code",
        "colab": {
          "base_uri": "https://localhost:8080/",
          "height": 34
        },
        "outputId": "ff1ec3b8-5897-454b-9f5e-46c1e71e738a"
      },
      "source": [
        "secure_worker.clear_objects()"
      ],
      "execution_count": 21,
      "outputs": [
        {
          "output_type": "execute_result",
          "data": {
            "text/plain": [
              "<VirtualWorker id:secure_worker #objects:0>"
            ]
          },
          "metadata": {
            "tags": []
          },
          "execution_count": 21
        }
      ]
    },
    {
      "cell_type": "markdown",
      "metadata": {
        "id": "UQ25n3h9ChWM",
        "colab_type": "text"
      },
      "source": [
        "**And voila.We have Federated Learnign  where the gradient aggregation happens on a neutral third party.**"
      ]
    },
    {
      "cell_type": "markdown",
      "metadata": {
        "id": "Vk8d2Sn2w0W9",
        "colab_type": "text"
      },
      "source": [
        "##Intro to Additive Secret Sharing"
      ]
    },
    {
      "cell_type": "code",
      "metadata": {
        "id": "jNn0CyvBue6a",
        "colab_type": "code",
        "colab": {}
      },
      "source": [
        "bob_x_share = 2\n",
        "alice_x_share = 3\n",
        "\n",
        "decrypted_x = bob_x_share + alice_x_share\n",
        "decrypted_x"
      ],
      "execution_count": 0,
      "outputs": []
    },
    {
      "cell_type": "code",
      "metadata": {
        "id": "o85Iq2fbue9F",
        "colab_type": "code",
        "colab": {}
      },
      "source": [
        "bob_x_share = 2 * 2\n",
        "alice_x_share = 3 * 2\n",
        "\n",
        "decrypted_x = bob_x_share + alice_x_share\n",
        "decrypted_x"
      ],
      "execution_count": 0,
      "outputs": []
    },
    {
      "cell_type": "code",
      "metadata": {
        "id": "lHWeXd6gue_r",
        "colab_type": "code",
        "colab": {}
      },
      "source": [
        "bob_x_share = 2\n",
        "alice_x_share = 3\n",
        "\n",
        "bob_y_share = 5\n",
        "alice_y_share = 2\n",
        "\n",
        "bob_z_share = bob_x_share + bob_y_share\n",
        "alice_z_share = alice_x_share + alice_y_share\n",
        "\n",
        "decrypted_z = bob_z_share + alice_z_share\n",
        "decrypted_z"
      ],
      "execution_count": 0,
      "outputs": []
    },
    {
      "cell_type": "code",
      "metadata": {
        "id": "ug9GYPAuufDJ",
        "colab_type": "code",
        "colab": {}
      },
      "source": [
        "x = 5\n",
        "\n",
        "Q = 23740629843760239486723\n",
        "\n",
        "bob_x_share = 23552870267 # <- a random number\n",
        "alice_x_share = Q - bob_x_share + x\n",
        "alice_x_share"
      ],
      "execution_count": 0,
      "outputs": []
    },
    {
      "cell_type": "code",
      "metadata": {
        "id": "jgMKBiChufFO",
        "colab_type": "code",
        "colab": {}
      },
      "source": [
        "(bob_x_share + alice_x_share) % Q"
      ],
      "execution_count": 0,
      "outputs": []
    },
    {
      "cell_type": "markdown",
      "metadata": {
        "id": "jhpiXlzovQAA",
        "colab_type": "text"
      },
      "source": [
        "##Build Methods for Encrypted, Decrypted, and Add"
      ]
    },
    {
      "cell_type": "code",
      "metadata": {
        "id": "01u2cgt-ufH9",
        "colab_type": "code",
        "colab": {}
      },
      "source": [
        "import random\n",
        "\n",
        "Q = 23740629843760239486723\n",
        "\n",
        "def encrypt(x, n_share=3):\n",
        "    \n",
        "    shares = list()\n",
        "    for i in range(n_share-1):\n",
        "        shares.append(random.randint(0,Q))  \n",
        "    shares.append(Q - (sum(shares) % Q) + x)\n",
        "    return tuple(shares)"
      ],
      "execution_count": 0,
      "outputs": []
    },
    {
      "cell_type": "code",
      "metadata": {
        "id": "-Bw493POufK4",
        "colab_type": "code",
        "colab": {}
      },
      "source": [
        "def decrypt(shares):\n",
        "    return sum(shares) % Q"
      ],
      "execution_count": 0,
      "outputs": []
    },
    {
      "cell_type": "code",
      "metadata": {
        "id": "upFYPSvEufOB",
        "colab_type": "code",
        "colab": {}
      },
      "source": [
        "def add(a, b):\n",
        "    c = list()\n",
        "    for i in range(len(a)):\n",
        "        c.append((a[i] + b[i]) % Q)\n",
        "    return tuple(c)"
      ],
      "execution_count": 0,
      "outputs": []
    },
    {
      "cell_type": "code",
      "metadata": {
        "id": "-tQ0whpQufPy",
        "colab_type": "code",
        "colab": {}
      },
      "source": [
        "x = encrypt(10)\n",
        "print(x)\n",
        "y = encrypt(20)\n",
        "print(y)\n",
        "z = add(x, y)\n",
        "print(z)\n",
        "decrypt("
      ],
      "execution_count": 0,
      "outputs": []
    },
    {
      "cell_type": "markdown",
      "metadata": {
        "id": "3AnPpAHLvk3g",
        "colab_type": "text"
      },
      "source": [
        "##Intro to Fixed Precision Encoding"
      ]
    },
    {
      "cell_type": "code",
      "metadata": {
        "id": "rGAOxuQ4ufS7",
        "colab_type": "code",
        "colab": {}
      },
      "source": [
        "BASE=10\n",
        "PRECISION=4"
      ],
      "execution_count": 0,
      "outputs": []
    },
    {
      "cell_type": "code",
      "metadata": {
        "id": "EYz3JJb8ufU3",
        "colab_type": "code",
        "colab": {}
      },
      "source": [
        "def encode(x):\n",
        "    return int((x * (BASE ** PRECISION)) % Q)\n",
        "\n",
        "def decode(x):\n",
        "    return (x if x <= Q/2 else x - Q) / BASE**PRECISION"
      ],
      "execution_count": 0,
      "outputs": []
    },
    {
      "cell_type": "code",
      "metadata": {
        "id": "zzpso5T6ufYe",
        "colab_type": "code",
        "colab": {}
      },
      "source": [
        "encode(4.578)"
      ],
      "execution_count": 0,
      "outputs": []
    },
    {
      "cell_type": "code",
      "metadata": {
        "id": "IQtyN7CtufaJ",
        "colab_type": "code",
        "colab": {}
      },
      "source": [
        "encode(5.7)"
      ],
      "execution_count": 0,
      "outputs": []
    },
    {
      "cell_type": "code",
      "metadata": {
        "id": "gE490uzIvs9v",
        "colab_type": "code",
        "colab": {}
      },
      "source": [
        "x = encrypt(encode(5.5))\n",
        "y = encrypt(encode(2.3))\n",
        "z = add(x,y)\n",
        "decode(decrypt(z))"
      ],
      "execution_count": 0,
      "outputs": []
    },
    {
      "cell_type": "markdown",
      "metadata": {
        "id": "-JT4a60RvyFA",
        "colab_type": "text"
      },
      "source": [
        "##Secret Sharing Using PySyft"
      ]
    },
    {
      "cell_type": "code",
      "metadata": {
        "id": "9qDD9UVZvtAS",
        "colab_type": "code",
        "colab": {}
      },
      "source": [
        "bob = bob.clear_objects()\n",
        "alice = alice.clear_objects()\n",
        "secure_worker = secure_worker.clear_objects()"
      ],
      "execution_count": 0,
      "outputs": []
    },
    {
      "cell_type": "code",
      "metadata": {
        "id": "LkZ6awlfvtE-",
        "colab_type": "code",
        "colab": {}
      },
      "source": [
        "x = th.tensor([1,2,3,4,5])"
      ],
      "execution_count": 0,
      "outputs": []
    },
    {
      "cell_type": "code",
      "metadata": {
        "id": "t25TQRaEvtH0",
        "colab_type": "code",
        "colab": {}
      },
      "source": [
        "x = x.share(bob, alice, secure_worker)"
      ],
      "execution_count": 0,
      "outputs": []
    },
    {
      "cell_type": "code",
      "metadata": {
        "id": "iFMNaGchvte2",
        "colab_type": "code",
        "colab": {}
      },
      "source": [
        "bob._objects"
      ],
      "execution_count": 0,
      "outputs": []
    },
    {
      "cell_type": "code",
      "metadata": {
        "id": "ZSHIO0Gavthq",
        "colab_type": "code",
        "colab": {}
      },
      "source": [
        "alice._objects"
      ],
      "execution_count": 0,
      "outputs": []
    },
    {
      "cell_type": "code",
      "metadata": {
        "id": "gqfe8bPFvtkd",
        "colab_type": "code",
        "colab": {}
      },
      "source": [
        "y = x + x\n",
        "y"
      ],
      "execution_count": 0,
      "outputs": []
    },
    {
      "cell_type": "code",
      "metadata": {
        "id": "XzIw1VoUvtpK",
        "colab_type": "code",
        "colab": {}
      },
      "source": [
        "y.get()"
      ],
      "execution_count": 0,
      "outputs": []
    },
    {
      "cell_type": "markdown",
      "metadata": {
        "id": "KS7Rsjy2wEae",
        "colab_type": "text"
      },
      "source": [
        "##Fixed Precision using PySyft"
      ]
    },
    {
      "cell_type": "code",
      "metadata": {
        "id": "U5ajTAAVvtsJ",
        "colab_type": "code",
        "colab": {}
      },
      "source": [
        "x = th.tensor([0.1,0.2,0.3])\n",
        "x"
      ],
      "execution_count": 0,
      "outputs": []
    },
    {
      "cell_type": "code",
      "metadata": {
        "id": "-d21EUQDvt7c",
        "colab_type": "code",
        "colab": {}
      },
      "source": [
        "x = x.fix_prec()"
      ],
      "execution_count": 0,
      "outputs": []
    },
    {
      "cell_type": "code",
      "metadata": {
        "id": "J-AYyO4uvt-5",
        "colab_type": "code",
        "colab": {}
      },
      "source": [
        "x"
      ],
      "execution_count": 0,
      "outputs": []
    },
    {
      "cell_type": "code",
      "metadata": {
        "id": "JiOsSkYsvuBX",
        "colab_type": "code",
        "colab": {}
      },
      "source": [
        "y = x + x\n",
        "y"
      ],
      "execution_count": 0,
      "outputs": []
    },
    {
      "cell_type": "code",
      "metadata": {
        "id": "pyGFLa44vuDT",
        "colab_type": "code",
        "colab": {}
      },
      "source": [
        "y = y.float_prec()\n",
        "y"
      ],
      "execution_count": 0,
      "outputs": []
    },
    {
      "cell_type": "markdown",
      "metadata": {
        "id": "1Wchrra5wPD1",
        "colab_type": "text"
      },
      "source": [
        "##Shared Fixed Precision"
      ]
    },
    {
      "cell_type": "code",
      "metadata": {
        "id": "nIbV94_KvtnM",
        "colab_type": "code",
        "colab": {}
      },
      "source": [
        "x = th.tensor([0.1, 0.2, 0.3])\n",
        "x = x.fix_prec().share(bob, alice, secure_worker)"
      ],
      "execution_count": 0,
      "outputs": []
    },
    {
      "cell_type": "code",
      "metadata": {
        "id": "pis5HHcpvtEF",
        "colab_type": "code",
        "colab": {}
      },
      "source": [
        "y = x + x\n",
        "y"
      ],
      "execution_count": 0,
      "outputs": []
    },
    {
      "cell_type": "code",
      "metadata": {
        "id": "mdrYeSdzvs6s",
        "colab_type": "code",
        "colab": {}
      },
      "source": [
        "y.get().float_prec()"
      ],
      "execution_count": 0,
      "outputs": []
    }
  ]
}